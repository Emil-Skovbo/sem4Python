{
 "cells": [
  {
   "cell_type": "markdown",
   "metadata": {},
   "source": [
    "## Exercise"
   ]
  },
  {
   "cell_type": "markdown",
   "metadata": {},
   "source": [
    "1. Create 5 list comprehensions to solve the following 5 problems:\n",
    "  1. Iterate a list of names to return a list of the names starting with H\n",
    "  2. In one line create a list of the numbers 1-100 to the power of 3\n",
    "  3. Iterate a list of names to create a list of tuples where the tuples first value is the length of the name and the second is the name\n",
    "  4. Iterate over each character in a string and get only those that are nummeric\n",
    "  5. Using only a list comprehension wrapped in set() get all possible combination from throwing 2 dice\n",
    "\n",
    "2. Create 2 dictionary comprehensions to solve the following:\n",
    "  1. Iterate a list of names and create a dictionary where key is the name and value is the length of the name\n",
    "  2. Iterate a list of numbers and create a dictionary with (key, value) being (number, squareroot of number)\n",
    "\n",
    "3. Progammatically using loops create a small program to produce a dictionary with all the 2 dice throw combinations as keys and their likelyhood in percent as values"
   ]
  },
  {
   "cell_type": "code",
   "execution_count": 144,
   "metadata": {},
   "outputs": [
    {
     "data": {
      "text/plain": [
       "['henrik', 'henning', 'hans']"
      ]
     },
     "execution_count": 144,
     "metadata": {},
     "output_type": "execute_result"
    }
   ],
   "source": [
    "#A Iterate a list of names to return a list of the names starting with H\n",
    "A = [\"bob\",\"emil\",\"henrik\",\"henning\",\"hans\"]\n",
    "AResualt = [A for A in A if A[0][0].lower() == \"h\" ]\n",
    "AResualt\n",
    "\n",
    "\n"
   ]
  },
  {
   "cell_type": "code",
   "execution_count": 59,
   "metadata": {},
   "outputs": [
    {
     "data": {
      "text/plain": [
       "[0, 1, 8, 27, 64]"
      ]
     },
     "execution_count": 59,
     "metadata": {},
     "output_type": "execute_result"
    }
   ],
   "source": [
    "#B In one line create a list of the numbers 1-100 to the power of 3\n",
    "cubed = [value**3 for value in range(0, 100) if value**3 < 100]\n",
    "cubed"
   ]
  },
  {
   "cell_type": "code",
   "execution_count": 139,
   "metadata": {},
   "outputs": [
    {
     "data": {
      "text/plain": [
       "(3, 4, 6, 7, 4, 'bob', 'emil', 'henrik', 'henning', 'hans')"
      ]
     },
     "execution_count": 139,
     "metadata": {},
     "output_type": "execute_result"
    }
   ],
   "source": [
    "#C Iterate a list of names to create a list of tuples where the tuples first value is the length of the name and the second is the name\n",
    "C = [\"bob\",\"emil\",\"henrik\",\"henning\",\"hans\"]\n",
    "Cnum = [len(C) for C in C]\n",
    "CResualt = tuple(Cnum+ C)\n",
    "CResualt"
   ]
  },
  {
   "cell_type": "code",
   "execution_count": 146,
   "metadata": {},
   "outputs": [
    {
     "data": {
      "text/plain": [
       "'jeg har ingen ide om hvad der menes her'"
      ]
     },
     "execution_count": 146,
     "metadata": {},
     "output_type": "execute_result"
    }
   ],
   "source": [
    "#D Iterate over each character in a string and get only those that are nummeric\n",
    "noclue = \"jeg har ingen ide om hvad der menes her\"\n",
    "noclue"
   ]
  },
  {
   "cell_type": "code",
   "execution_count": 324,
   "metadata": {},
   "outputs": [
    {
     "ename": "TypeError",
     "evalue": "'list' object is not callable",
     "output_type": "error",
     "traceback": [
      "\u001b[1;31m---------------------------------------------------------------------------\u001b[0m",
      "\u001b[1;31mTypeError\u001b[0m                                 Traceback (most recent call last)",
      "\u001b[1;32m<ipython-input-324-8c2d5aed76f9>\u001b[0m in \u001b[0;36m<module>\u001b[1;34m\u001b[0m\n\u001b[0;32m      3\u001b[0m \u001b[0mcounter\u001b[0m \u001b[1;33m=\u001b[0m \u001b[0mrange\u001b[0m\u001b[1;33m(\u001b[0m\u001b[1;36m0\u001b[0m\u001b[1;33m,\u001b[0m\u001b[1;36m100\u001b[0m\u001b[1;33m)\u001b[0m\u001b[1;33m\u001b[0m\u001b[1;33m\u001b[0m\u001b[0m\n\u001b[0;32m      4\u001b[0m \u001b[0mmylist\u001b[0m \u001b[1;33m=\u001b[0m \u001b[1;33m[\u001b[0m\u001b[1;33m(\u001b[0m\u001b[0mrandom\u001b[0m\u001b[1;33m.\u001b[0m\u001b[0mrandint\u001b[0m\u001b[1;33m(\u001b[0m\u001b[1;36m1\u001b[0m\u001b[1;33m,\u001b[0m\u001b[1;36m6\u001b[0m\u001b[1;33m)\u001b[0m \u001b[1;33m+\u001b[0m \u001b[0mrandom\u001b[0m\u001b[1;33m.\u001b[0m\u001b[0mrandint\u001b[0m\u001b[1;33m(\u001b[0m\u001b[1;36m1\u001b[0m\u001b[1;33m,\u001b[0m\u001b[1;36m6\u001b[0m\u001b[1;33m)\u001b[0m\u001b[1;33m)\u001b[0m \u001b[1;32mfor\u001b[0m \u001b[0mcounter\u001b[0m \u001b[1;32min\u001b[0m \u001b[0mrange\u001b[0m\u001b[1;33m(\u001b[0m\u001b[1;36m0\u001b[0m\u001b[1;33m,\u001b[0m \u001b[1;36m100\u001b[0m\u001b[1;33m)\u001b[0m\u001b[1;33m]\u001b[0m\u001b[1;33m\u001b[0m\u001b[1;33m\u001b[0m\u001b[0m\n\u001b[1;32m----> 5\u001b[1;33m \u001b[0mmyset\u001b[0m \u001b[1;33m=\u001b[0m \u001b[0mset\u001b[0m\u001b[1;33m(\u001b[0m\u001b[0mmylist\u001b[0m\u001b[1;33m)\u001b[0m\u001b[1;33m\u001b[0m\u001b[1;33m\u001b[0m\u001b[0m\n\u001b[0m",
      "\u001b[1;31mTypeError\u001b[0m: 'list' object is not callable"
     ]
    }
   ],
   "source": [
    "#E Using only a list comprehension wrapped in set() get all possible combination from throwing 2 dice\n",
    "import random\n",
    "counter = range(0,100)\n",
    "mylist = [(random.randint(1,6) + random.randint(1,6)) for counter in range(0, 100)]\n",
    "myset = set(mylist)"
   ]
  },
  {
   "cell_type": "code",
   "execution_count": 282,
   "metadata": {},
   "outputs": [
    {
     "data": {
      "text/plain": [
       "{3: 1.7320508075688772}"
      ]
     },
     "execution_count": 282,
     "metadata": {},
     "output_type": "execute_result"
    }
   ],
   "source": [
    "#Create 2 dictionary comprehensions to solve the following:\n",
    "#Iterate a list of names and create a dictionary where key is the name and value is the length of the name\n",
    "#Iterate a list of numbers and create a dictionary with (key, value) being (number, squareroot of number)\n",
    "\n",
    "import math\n",
    "lista = {\"bob\" : 3,\"emil\":4,\"henrik\":6,\"henning\":7,\"hans\":4}\n",
    "lista\n",
    "ListB = {3:math.sqrt(3)}\n",
    "ListB"
   ]
  }
 ],
 "metadata": {
  "kernelspec": {
   "display_name": "Python 3",
   "language": "python",
   "name": "python3"
  },
  "language_info": {
   "codemirror_mode": {
    "name": "ipython",
    "version": 3
   },
   "file_extension": ".py",
   "mimetype": "text/x-python",
   "name": "python",
   "nbconvert_exporter": "python",
   "pygments_lexer": "ipython3",
   "version": "3.7.4"
  }
 },
 "nbformat": 4,
 "nbformat_minor": 2
}
